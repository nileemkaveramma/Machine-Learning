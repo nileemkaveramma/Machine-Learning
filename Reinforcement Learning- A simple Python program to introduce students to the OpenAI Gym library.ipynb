{
  "nbformat": 4,
  "nbformat_minor": 0,
  "metadata": {
    "colab": {
      "provenance": []
    },
    "kernelspec": {
      "name": "python3",
      "display_name": "Python 3"
    },
    "language_info": {
      "name": "python"
    }
  },
  "cells": [
    {
      "cell_type": "markdown",
      "source": [
        "###LAB-2 simple Python program to introduce students to the OpenAI Gym library"
      ],
      "metadata": {
        "id": "iglGcExhe5GP"
      }
    },
    {
      "cell_type": "markdown",
      "source": [
        "* **Gymnasium** is a toolkit for developing and comparing reinforcement learning algorithms."
      ],
      "metadata": {
        "id": "-I1KxHykXTbL"
      }
    },
    {
      "cell_type": "code",
      "source": [
        "pip install gymnasium"
      ],
      "metadata": {
        "colab": {
          "base_uri": "https://localhost:8080/"
        },
        "id": "FqQsn1W833kE",
        "outputId": "6b54d8bc-df6a-4931-864b-acf0726f5d56"
      },
      "execution_count": null,
      "outputs": [
        {
          "output_type": "stream",
          "name": "stdout",
          "text": [
            "Collecting gymnasium\n",
            "  Downloading gymnasium-1.0.0-py3-none-any.whl.metadata (9.5 kB)\n",
            "Requirement already satisfied: numpy>=1.21.0 in /usr/local/lib/python3.10/dist-packages (from gymnasium) (1.26.4)\n",
            "Requirement already satisfied: cloudpickle>=1.2.0 in /usr/local/lib/python3.10/dist-packages (from gymnasium) (2.2.1)\n",
            "Requirement already satisfied: typing-extensions>=4.3.0 in /usr/local/lib/python3.10/dist-packages (from gymnasium) (4.12.2)\n",
            "Collecting farama-notifications>=0.0.1 (from gymnasium)\n",
            "  Downloading Farama_Notifications-0.0.4-py3-none-any.whl.metadata (558 bytes)\n",
            "Downloading gymnasium-1.0.0-py3-none-any.whl (958 kB)\n",
            "\u001b[2K   \u001b[90m━━━━━━━━━━━━━━━━━━━━━━━━━━━━━━━━━━━━━━━━\u001b[0m \u001b[32m958.1/958.1 kB\u001b[0m \u001b[31m12.5 MB/s\u001b[0m eta \u001b[36m0:00:00\u001b[0m\n",
            "\u001b[?25hDownloading Farama_Notifications-0.0.4-py3-none-any.whl (2.5 kB)\n",
            "Installing collected packages: farama-notifications, gymnasium\n",
            "Successfully installed farama-notifications-0.0.4 gymnasium-1.0.0\n"
          ]
        }
      ]
    },
    {
      "cell_type": "markdown",
      "source": [
        "* **import time:** This imports Python's built-in time module. It is often used in RL environments to add delays between actions so that the simulation doesn't run too fast for a human observer."
      ],
      "metadata": {
        "id": "twr3dXlnYNSY"
      }
    },
    {
      "cell_type": "code",
      "execution_count": null,
      "metadata": {
        "id": "Y_L2Nolm3awM"
      },
      "outputs": [],
      "source": [
        "import gymnasium as gym\n",
        "import time"
      ]
    },
    {
      "cell_type": "code",
      "source": [
        "# Import necessary libraries\n",
        "import gym\n",
        "\n",
        "# Create the CartPole environment\n",
        "env = gym.make('CartPole-v1')\n",
        "\n",
        "# Reset the environment to start\n",
        "state = env.reset()\n",
        "\n",
        "# Run 10 episodes\n",
        "for episode in range(10):\n",
        "    # Reset the environment at the beginning of each episode\n",
        "    state = env.reset()\n",
        "    done = False\n",
        "    score = 0\n",
        "\n",
        "    while not done:\n",
        "        # Render the environment (you can comment this out if running on a server without a display)\n",
        "        env.render()\n",
        "\n",
        "        # Take random actions in the environment (this is just a demo)\n",
        "        action = env.action_space.sample()\n",
        "\n",
        "        # Step in the environment with the random action\n",
        "        next_state, reward, done, info = env.step(action)\n",
        "\n",
        "        # Update score\n",
        "        score += reward\n",
        "\n",
        "    # Print the score for each episode\n",
        "    print(f'Episode {episode + 1} Score: {score}')\n",
        "\n",
        "# Close the environment\n",
        "env.close()\n"
      ],
      "metadata": {
        "id": "qa-qmW49rm62",
        "colab": {
          "base_uri": "https://localhost:8080/"
        },
        "outputId": "dc795218-830c-455f-f9fe-303cea93f7b5"
      },
      "execution_count": null,
      "outputs": [
        {
          "output_type": "stream",
          "name": "stderr",
          "text": [
            "/usr/local/lib/python3.10/dist-packages/gym/core.py:317: DeprecationWarning: \u001b[33mWARN: Initializing wrapper in old step API which returns one bool instead of two. It is recommended to set `new_step_api=True` to use new step API. This will be the default behaviour in future.\u001b[0m\n",
            "  deprecation(\n",
            "/usr/local/lib/python3.10/dist-packages/gym/wrappers/step_api_compatibility.py:39: DeprecationWarning: \u001b[33mWARN: Initializing environment in old step API which returns one bool instead of two. It is recommended to set `new_step_api=True` to use new step API. This will be the default behaviour in future.\u001b[0m\n",
            "  deprecation(\n",
            "/usr/local/lib/python3.10/dist-packages/gym/core.py:49: DeprecationWarning: \u001b[33mWARN: You are calling render method, but you didn't specified the argument render_mode at environment initialization. To maintain backward compatibility, the environment will render in human mode.\n",
            "If you want to render in human mode, initialize the environment in this way: gym.make('EnvName', render_mode='human') and don't call the render method.\n",
            "See here for more information: https://www.gymlibrary.ml/content/api/\u001b[0m\n",
            "  deprecation(\n",
            "/usr/local/lib/python3.10/dist-packages/gym/utils/passive_env_checker.py:241: DeprecationWarning: `np.bool8` is a deprecated alias for `np.bool_`.  (Deprecated NumPy 1.24)\n",
            "  if not isinstance(terminated, (bool, np.bool8)):\n"
          ]
        },
        {
          "output_type": "stream",
          "name": "stdout",
          "text": [
            "Episode 1 Score: 13.0\n",
            "Episode 2 Score: 22.0\n",
            "Episode 3 Score: 38.0\n",
            "Episode 4 Score: 27.0\n",
            "Episode 5 Score: 16.0\n",
            "Episode 6 Score: 11.0\n",
            "Episode 7 Score: 28.0\n",
            "Episode 8 Score: 21.0\n",
            "Episode 9 Score: 28.0\n",
            "Episode 10 Score: 19.0\n"
          ]
        }
      ]
    },
    {
      "cell_type": "code",
      "source": [],
      "metadata": {
        "id": "MisbMv1DDwEO"
      },
      "execution_count": null,
      "outputs": []
    }
  ]
}